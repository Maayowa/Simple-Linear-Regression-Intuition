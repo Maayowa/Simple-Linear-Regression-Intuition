{
 "cells": [
  {
   "cell_type": "code",
   "execution_count": 1,
   "metadata": {},
   "outputs": [],
   "source": [
    "from statistics import mean\n",
    "import numpy as np\n",
    "import matplotlib.pyplot as plt\n",
    "from matplotlib import style\n",
    "\n",
    "style.use('fivethirtyeight')"
   ]
  },
  {
   "cell_type": "code",
   "execution_count": 54,
   "metadata": {},
   "outputs": [
    {
     "data": {
      "text/plain": [
       "4"
      ]
     },
     "execution_count": 54,
     "metadata": {},
     "output_type": "execute_result"
    }
   ],
   "source": [
    "import random\n",
    "y = 2\n",
    "x = y + random.randrange(-3,3)\n",
    "x"
   ]
  },
  {
   "cell_type": "code",
   "execution_count": 66,
   "metadata": {},
   "outputs": [
    {
     "name": "stdout",
     "output_type": "stream",
     "text": [
      "0.5100375234521577 -3.7707317073170747\n"
     ]
    }
   ],
   "source": [
    "#x  = np.array([1,2,3,4,5], dtype = np.float64)\n",
    "#y = np.array([3,5,4,6,8], dtype = np.float64)\n",
    "\n",
    "# Creating random values to be used to test our algorithm\n",
    "def create_dataset(hm, variance, step = 2, correlation = False):\n",
    "    val = 1\n",
    "    y = []\n",
    "    for i in range(hm):\n",
    "        ys = val + random.randrange(-variance, variance)\n",
    "        y.append(ys)\n",
    "        if correlation and correlation == 'pos':\n",
    "            val+=step\n",
    "        elif correlation and correlation == 'neg':\n",
    "            val-=step\n",
    "    x = [i for i in range(len(y))]\n",
    "    return np.array(x, dtype = np.float64), np.array(y, dtype = np.float64)\n",
    "\n",
    "def best_fit_slope_and_intercept(x,y):\n",
    "    # from y = mx + c, actually, m(mean(x)sqrd - mean(x sqrd)) = mean(x)*mean(y) - mean(xy)\n",
    "    m = ( ((mean(x) * mean(y)) - mean(x*y)) /\n",
    "         ((mean(x)**2) - mean(x**2)) )\n",
    "    b = mean(y) - m*mean(x)\n",
    "    return m,b \n",
    "# Writing the code for the Coefficient of Determination\n",
    "# Creating Mean square error\n",
    "def squared_error(y_orig, y_line):#y_line = y_predict\n",
    "    return sum((y_line - y_orig)**2)\n",
    "\n",
    "def coeff_determination(y_orig, y_line):\n",
    "\n",
    "    y_mean_line = [mean(y_orig) for y in y_orig]\n",
    "    sqrd_error_regr = squared_error(y_orig, y_line)\n",
    "    square_error_y_mean = squared_error(y_orig, y_mean_line)\n",
    "    return 1 - (sqrd_error_regr/square_error_y_mean)\n",
    "\n",
    "x,y = create_dataset(40,80,2, correlation = False)\n",
    "\n",
    "m,b = best_fit_slope_and_intercept(x,y)\n",
    "print(m, b)"
   ]
  },
  {
   "cell_type": "code",
   "execution_count": 68,
   "metadata": {},
   "outputs": [
    {
     "name": "stdout",
     "output_type": "stream",
     "text": [
      "0.015564766278003295\n"
     ]
    }
   ],
   "source": [
    "regression_line = [(m*i) + b for i in x]\n",
    "r_squared = coeff_determination(y, regression_line)\n",
    "print(r_squared)\n",
    "# A r_squared value that is close to zero would mean that a Linear Regression model is not a best fit\n",
    "# for prediction on such model"
   ]
  },
  {
   "cell_type": "markdown",
   "metadata": {},
   "source": [
    " sst = np.sum(np.power(regression_line - ys, 2))\n",
    "\t\n",
    "    \n",
    "   sse = np.sum(np.power(ys- np.mean(ys ), 2))\n",
    "\t\n",
    "    \n",
    "   return 1 -sst/sse"
   ]
  },
  {
   "cell_type": "markdown",
   "metadata": {},
   "source": [
    "#### Goodness of fit\n",
    "Coefficient of Determination"
   ]
  },
  {
   "cell_type": "code",
   "execution_count": null,
   "metadata": {},
   "outputs": [],
   "source": [
    "# Creating Mean square error\n",
    "def squared_error(y_orig, y_line):#y_line = y_predict\n",
    "    return sum((y_line - y_orig)**2)"
   ]
  },
  {
   "cell_type": "code",
   "execution_count": null,
   "metadata": {},
   "outputs": [],
   "source": [
    "regression_line = [(m*i) + b for i in x]"
   ]
  },
  {
   "cell_type": "code",
   "execution_count": 67,
   "metadata": {},
   "outputs": [
    {
     "data": {
      "text/plain": [
       "[<matplotlib.lines.Line2D at 0x2a01594fac8>]"
      ]
     },
     "execution_count": 67,
     "metadata": {},
     "output_type": "execute_result"
    },
    {
     "data": {
      "image/png": "[encoded data removed]",
      "text/plain": [
       "<Figure size 432x288 with 1 Axes>"
      ]
     },
     "metadata": {},
     "output_type": "display_data"
    }
   ],
   "source": [
    "plt.scatter(x,y)\n",
    "\n",
    "plt.plot(regression_line)"
   ]
  },
  {
   "cell_type": "code",
   "execution_count": 59,
   "metadata": {},
   "outputs": [
    {
     "data": {
      "text/plain": [
       "14.152814258911816"
      ]
     },
     "execution_count": 59,
     "metadata": {},
     "output_type": "execute_result"
    }
   ],
   "source": [
    "predict_x = 7\n",
    "predict_y = (m*predict_x) + b\n",
    "predict_y"
   ]
  },
  {
   "cell_type": "code",
   "execution_count": 61,
   "metadata": {},
   "outputs": [
    {
     "data": {
      "text/plain": [
       "[<matplotlib.lines.Line2D at 0x2a0159d4548>]"
      ]
     },
     "execution_count": 61,
     "metadata": {},
     "output_type": "execute_result"
    },
    {
     "data": {
      "image/png": "[encoded data removed]",
      "text/plain": [
       "<Figure size 432x288 with 1 Axes>"
      ]
     },
     "metadata": {},
     "output_type": "display_data"
    }
   ],
   "source": [
    "plt.scatter(x,y)\n",
    "plt.scatter(predict_x, predict_y, s = 100,c = 'r')\n",
    "\n",
    "plt.plot(regression_line)"
   ]
  },
  {
   "cell_type": "code",
   "execution_count": null,
   "metadata": {},
   "outputs": [],
   "source": []
  }
 ],
 "metadata": {
  "kernelspec": {
   "display_name": "Python 3",
   "language": "python",
   "name": "python3"
  },
  "language_info": {
   "codemirror_mode": {
    "name": "ipython",
    "version": 3
   },
   "file_extension": ".py",
   "mimetype": "text/x-python",
   "name": "python",
   "nbconvert_exporter": "python",
   "pygments_lexer": "ipython3",
   "version": "3.7.6"
  }
 },
 "nbformat": 4,
 "nbformat_minor": 4
}
